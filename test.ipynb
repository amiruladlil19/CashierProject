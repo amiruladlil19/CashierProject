{
 "cells": [
  {
   "cell_type": "code",
   "execution_count": 1,
   "id": "76e3d307-4d88-4b5a-aa81-1f414ca809ad",
   "metadata": {},
   "outputs": [],
   "source": [
    "from cashier import Transaction"
   ]
  },
  {
   "cell_type": "code",
   "execution_count": 2,
   "id": "b267d735-286f-42ce-a887-e65b6a4255cc",
   "metadata": {},
   "outputs": [],
   "source": [
    "buy = Transaction()"
   ]
  },
  {
   "cell_type": "code",
   "execution_count": 3,
   "id": "73b8c1d6-609e-462d-90e0-c70048062e5f",
   "metadata": {},
   "outputs": [
    {
     "name": "stdout",
     "output_type": "stream",
     "text": [
      "     item  price\n",
      "0  Banana  30000\n",
      "1  Orange  40000\n",
      "2   Apple  50000\n"
     ]
    }
   ],
   "source": [
    "buy.see_available_items()"
   ]
  },
  {
   "cell_type": "code",
   "execution_count": 4,
   "id": "f303ef64-78d8-47be-912e-7f7b1656df48",
   "metadata": {},
   "outputs": [],
   "source": [
    "buy.add_item(\"Apple\", 5)"
   ]
  },
  {
   "cell_type": "code",
   "execution_count": 5,
   "id": "f3289194-9d90-4a4a-829c-76d564b4a2fd",
   "metadata": {},
   "outputs": [
    {
     "data": {
      "text/plain": [
       "(    Item  Price Qty Total Prices\n",
       " 0  Apple  50000   5       250000,\n",
       " 'Order is valid')"
      ]
     },
     "execution_count": 5,
     "metadata": {},
     "output_type": "execute_result"
    }
   ],
   "source": [
    "buy.check_order()"
   ]
  },
  {
   "cell_type": "code",
   "execution_count": 7,
   "id": "8791bf68-0af1-41d0-83e1-12ca0457e584",
   "metadata": {},
   "outputs": [
    {
     "data": {
      "text/plain": [
       "237500.0"
      ]
     },
     "execution_count": 7,
     "metadata": {},
     "output_type": "execute_result"
    }
   ],
   "source": [
    "buy.total_price()"
   ]
  },
  {
   "cell_type": "code",
   "execution_count": 8,
   "id": "a21d4f95-3775-4f11-a520-e2138f3cb323",
   "metadata": {},
   "outputs": [],
   "source": [
    "buy.add_item(\"Banana\", 10)"
   ]
  },
  {
   "cell_type": "code",
   "execution_count": 9,
   "id": "2f37a084-f97a-420b-af51-a5ce43ebfd1d",
   "metadata": {},
   "outputs": [
    {
     "data": {
      "text/plain": [
       "(     Item  Price Qty Total Prices\n",
       " 0   Apple  50000   5       250000\n",
       " 1  Banana  30000  10       300000,\n",
       " 'Order is valid')"
      ]
     },
     "execution_count": 9,
     "metadata": {},
     "output_type": "execute_result"
    }
   ],
   "source": [
    "buy.check_order()"
   ]
  },
  {
   "cell_type": "code",
   "execution_count": 10,
   "id": "4353ebe0-9f75-4a73-9425-60b92d8913fc",
   "metadata": {},
   "outputs": [
    {
     "data": {
      "text/plain": [
       "522500.0"
      ]
     },
     "execution_count": 10,
     "metadata": {},
     "output_type": "execute_result"
    }
   ],
   "source": [
    "buy.total_price()"
   ]
  },
  {
   "cell_type": "code",
   "execution_count": 11,
   "id": "92596cb8-51e5-47fc-98ee-d285f8dad80b",
   "metadata": {},
   "outputs": [],
   "source": [
    "buy.update_item_name(\"Orange\", \"Banana\")\n"
   ]
  },
  {
   "cell_type": "code",
   "execution_count": 12,
   "id": "cba4b6bd-e24e-4b17-b0c2-ddbf682524c8",
   "metadata": {},
   "outputs": [
    {
     "data": {
      "text/plain": [
       "(     Item  Price Qty Total Prices\n",
       " 0   Apple  50000   5       250000\n",
       " 1  Banana  30000  10       300000,\n",
       " 'Order is valid')"
      ]
     },
     "execution_count": 12,
     "metadata": {},
     "output_type": "execute_result"
    }
   ],
   "source": [
    "buy.check_order()"
   ]
  },
  {
   "cell_type": "code",
   "execution_count": 13,
   "id": "4780fcee-75b3-43c1-b515-67df4c1aeab9",
   "metadata": {},
   "outputs": [],
   "source": [
    "buy.update_item_name(\"Banana\", \"Apple\")\n"
   ]
  },
  {
   "cell_type": "code",
   "execution_count": 14,
   "id": "52a788c9-4102-411e-9212-f775ba0d9736",
   "metadata": {},
   "outputs": [
    {
     "data": {
      "text/plain": [
       "(    Item  Price Qty Total Prices\n",
       " 0  Apple  50000   5       250000\n",
       " 1  Apple  50000  10       500000,\n",
       " 'Order is valid')"
      ]
     },
     "execution_count": 14,
     "metadata": {},
     "output_type": "execute_result"
    }
   ],
   "source": [
    "buy.check_order()"
   ]
  },
  {
   "cell_type": "code",
   "execution_count": 15,
   "id": "f533d58e-9f95-4c52-97d8-856b357c6cf7",
   "metadata": {},
   "outputs": [
    {
     "data": {
      "text/plain": [
       "712500.0"
      ]
     },
     "execution_count": 15,
     "metadata": {},
     "output_type": "execute_result"
    }
   ],
   "source": [
    "buy.total_price()"
   ]
  },
  {
   "cell_type": "code",
   "execution_count": 16,
   "id": "b2e73450-2254-4fbf-a37c-f41848eba8f5",
   "metadata": {},
   "outputs": [],
   "source": [
    "buy.update_item_qty(\"Apple\", \"20\")\n"
   ]
  },
  {
   "cell_type": "code",
   "execution_count": 17,
   "id": "faa1669f-2f7b-4c64-a55b-34199eaad7b8",
   "metadata": {},
   "outputs": [
    {
     "data": {
      "text/plain": [
       "(    Item  Price Qty Total Prices\n",
       " 0  Apple  50000  20      1000000\n",
       " 1  Apple  50000  20      1000000,\n",
       " 'Order is valid')"
      ]
     },
     "execution_count": 17,
     "metadata": {},
     "output_type": "execute_result"
    }
   ],
   "source": [
    "buy.check_order()"
   ]
  },
  {
   "cell_type": "code",
   "execution_count": 18,
   "id": "ac8088d2-5491-4fd7-96d8-689447e8b35b",
   "metadata": {},
   "outputs": [],
   "source": [
    "buy.delete_item('Apple')"
   ]
  },
  {
   "cell_type": "code",
   "execution_count": 19,
   "id": "2f31a647-8cab-422e-85c6-f7f1fe33d045",
   "metadata": {},
   "outputs": [
    {
     "data": {
      "text/plain": [
       "(Empty DataFrame\n",
       " Columns: [Item, Price, Qty, Total Prices]\n",
       " Index: [],\n",
       " 'There is an error in the input')"
      ]
     },
     "execution_count": 19,
     "metadata": {},
     "output_type": "execute_result"
    }
   ],
   "source": [
    "buy.check_order()"
   ]
  },
  {
   "cell_type": "code",
   "execution_count": 20,
   "id": "4fe7dace-acb3-4d8e-8cd6-14129d6a334a",
   "metadata": {},
   "outputs": [],
   "source": [
    "buy.add_item('Orange', 10)\n",
    "buy.add_item('Banana', 20)\n",
    "buy.add_item('Apple', 3)"
   ]
  },
  {
   "cell_type": "code",
   "execution_count": 21,
   "id": "e07c3696-dfa6-40af-8f5e-69ae8675d3e2",
   "metadata": {},
   "outputs": [
    {
     "data": {
      "text/plain": [
       "(     Item  Price Qty Total Prices\n",
       " 0  Orange  40000  10       400000\n",
       " 1  Banana  30000  20       600000\n",
       " 2   Apple  50000   3       150000,\n",
       " 'Order is valid')"
      ]
     },
     "execution_count": 21,
     "metadata": {},
     "output_type": "execute_result"
    }
   ],
   "source": [
    "buy.check_order()"
   ]
  },
  {
   "cell_type": "code",
   "execution_count": 22,
   "id": "1a180c0b-9b7d-4212-afd5-706a22ca743e",
   "metadata": {},
   "outputs": [
    {
     "data": {
      "text/plain": [
       "1092500.0"
      ]
     },
     "execution_count": 22,
     "metadata": {},
     "output_type": "execute_result"
    }
   ],
   "source": [
    "buy.total_price()"
   ]
  },
  {
   "cell_type": "code",
   "execution_count": 23,
   "id": "1b1c3566-3d8a-4a1e-974d-f980d4fddadf",
   "metadata": {},
   "outputs": [],
   "source": [
    "buy.reset_transaction()"
   ]
  },
  {
   "cell_type": "code",
   "execution_count": 24,
   "id": "b9948373-df22-4fe2-a5f9-2fd8c7ef9172",
   "metadata": {},
   "outputs": [
    {
     "data": {
      "text/plain": [
       "(Empty DataFrame\n",
       " Columns: [Item, Price, Qty, Total Prices]\n",
       " Index: [],\n",
       " 'There is an error in the input')"
      ]
     },
     "execution_count": 24,
     "metadata": {},
     "output_type": "execute_result"
    }
   ],
   "source": [
    "buy.check_order()"
   ]
  },
  {
   "cell_type": "code",
   "execution_count": null,
   "id": "e1f4cbc1-5314-485b-8f91-53ad62e53412",
   "metadata": {},
   "outputs": [],
   "source": []
  }
 ],
 "metadata": {
  "kernelspec": {
   "display_name": "ds_venv",
   "language": "python",
   "name": "ds_venv"
  },
  "language_info": {
   "codemirror_mode": {
    "name": "ipython",
    "version": 3
   },
   "file_extension": ".py",
   "mimetype": "text/x-python",
   "name": "python",
   "nbconvert_exporter": "python",
   "pygments_lexer": "ipython3",
   "version": "3.9.6"
  }
 },
 "nbformat": 4,
 "nbformat_minor": 5
}
